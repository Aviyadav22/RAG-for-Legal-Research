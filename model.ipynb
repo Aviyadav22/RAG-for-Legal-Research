{
 "cells": [
  {
   "cell_type": "code",
   "execution_count": 1,
   "metadata": {},
   "outputs": [],
   "source": [
    "import os\n",
    "from dotenv import load_dotenv\n",
    "\n",
    "load_dotenv()\n",
    "\n",
    "OPENAI_API_KEY = os.getenv(\"OPENAI_API_KEY\")\n",
    "MODEL = \"gpt-3.5-turbo\"\n",
    "MODEL = \"mixtral:8x7b\"\n",
    "MODEL = \"llama3\""
   ]
  },
  {
   "cell_type": "code",
   "execution_count": 6,
   "metadata": {},
   "outputs": [
    {
     "data": {
      "text/plain": [
       "'Why couldn\\'t the bicycle stand up by itself?\\n\\nBecause it was two-tired!\\n\\n(Sorry, I know it\\'s a bit of a \"dad\" joke, but I hope it brought a smile to your face!)'"
      ]
     },
     "execution_count": 6,
     "metadata": {},
     "output_type": "execute_result"
    }
   ],
   "source": [
    "from langchain_community.llms import Ollama\n",
    "from langchain_openai.chat_models import ChatOpenAI\n",
    "from langchain_community.embeddings import OllamaEmbeddings\n",
    "from langchain_openai.embeddings import OpenAIEmbeddings\n",
    "\n",
    "if MODEL.startswith(\"gpt\"):\n",
    "    model = ChatOpenAI(openai_api_key=OPENAI_API_KEY, model=MODEL)\n",
    "    embeddings = OpenAIEmbeddings()\n",
    "else:\n",
    "    model = Ollama(model=MODEL)\n",
    "    embeddings = OllamaEmbeddings(model=MODEL)\n",
    "\n",
    "model.invoke(\"tell me a joke\") "
   ]
  },
  {
   "cell_type": "code",
   "execution_count": 7,
   "metadata": {},
   "outputs": [
    {
     "data": {
      "text/plain": [
       "\"Here's one:\\n\\nWhy couldn't the bicycle stand up by itself?\\n\\n(wait for it...)\\n\\nBecause it was two-tired!\\n\\nHope that made you smile!\""
      ]
     },
     "execution_count": 7,
     "metadata": {},
     "output_type": "execute_result"
    }
   ],
   "source": [
    "from langchain_core.output_parsers import StrOutputParser\n",
    "\n",
    "parser = StrOutputParser()\n",
    "\n",
    "chain = model | parser \n",
    "chain.invoke(\"Tell me a joke\")"
   ]
  },
  {
   "cell_type": "code",
   "execution_count": 8,
   "metadata": {},
   "outputs": [
    {
     "data": {
      "text/plain": [
       "'\\nAnswer the question based on the context below. If you can\\'t \\nanswer the question, reply \"I don\\'t know\".\\n\\nContext: Here is some context\\n\\nQuestion: Here is a question\\n'"
      ]
     },
     "execution_count": 8,
     "metadata": {},
     "output_type": "execute_result"
    }
   ],
   "source": [
    "from langchain.prompts import PromptTemplate\n",
    "\n",
    "template = \"\"\"\n",
    "Answer the question based on the context below. If you can't \n",
    "answer the question, reply \"I don't know\".\n",
    "\n",
    "Context: {context}\n",
    "\n",
    "Question: {question}\n",
    "\"\"\"\n",
    "\n",
    "prompt = PromptTemplate.from_template(template)\n",
    "prompt.format(context=\"Here is some context\", question=\"Here is a question\")"
   ]
  },
  {
   "cell_type": "code",
   "execution_count": 9,
   "metadata": {},
   "outputs": [
    {
     "data": {
      "text/plain": [
       "'My name is Santiago!'"
      ]
     },
     "execution_count": 9,
     "metadata": {},
     "output_type": "execute_result"
    }
   ],
   "source": [
    "chain = prompt | model | parser\n",
    "\n",
    "chain.invoke({\"context\": \"My parents named me Santiago\", \"question\": \"What's your name'?\"})"
   ]
  },
  {
   "cell_type": "code",
   "execution_count": 12,
   "metadata": {},
   "outputs": [
    {
     "name": "stderr",
     "output_type": "stream",
     "text": [
      "invalid pdf header: b'\\x923\\x00\\x00%'\n"
     ]
    },
    {
     "name": "stderr",
     "output_type": "stream",
     "text": [
      "incorrect startxref pointer(1)\n"
     ]
    },
    {
     "data": {
      "text/plain": [
       "[Document(page_content='http://JUDIS.NIC.IN SUPREME COURT OF INDIA Page 1 of 3 \\nPETITIONER:\\nNARAIN DAS\\n        Vs.\\nRESPONDENT:\\nTHE STATE OF UTTAR PRADESH\\nDATE OF JUDGMENT:\\n14/09/1960\\nBENCH:\\nACT:\\nAppeal-Forum--Single  Judge of High Court  exercising  civil\\njurisdiction  refusing to file complaint-Appeal, if lies  to\\nSupreme Court-Code of Criminal Procedure, 1898 (V of  1898),\\nss.  195 and 476-B.\\nHEADNOTE:\\nDuring  the  pendency  of  a  civil  writ  petition  in  the\\nAllahabad  High Court, one N moved an application  under  s.\\n476,  Code  of criminal Procedure, for  making  a  complaint\\nunder  s. 93, Indian Penal Code, against T. A  single  judge\\nwho  was  seized  of  the  case  rejected  the  application.\\nThereupon  N  presented  an  appeal  against  the  order  of\\nrejection of his application before the Supreme Court  under\\nS. 476-B, Code of Criminal Procedure.\\nHeld,  that the appeal did not lie to the Supreme Court  but\\nthat  it lay to the Appellate Bench of the High Court.   The\\ndecrees of a single judge of the High Court exercising civil\\njurisdiction  were ordinarily appealable to the  High  Court\\nunder  cl.  1o of the Letters Patent of the  Allahabad  High\\nCourt   read  with  cl.  13  of  the  U.  P.   High   Courts\\n(Amalgamation)   Order,   1948,  and  as  such   the   Court\\nconstituted  by the single judge was a court subordinate  to\\nthe Appellate Bench of the High Court within the meaning  of\\ns. 195(3) of the Code.\\nM.   S. Sheriff v. The State of Madras, [1954] S.C.R.  1144,\\ndistinguished.\\n                            677\\nJUDGMENT:\\nCRIMINAL   APPELLATE   JURISDICTION:  In   the   matter   of\\nmaintainability of appeal in the Supreme Court of India.\\nMohan Lal Agarwala, for the petitioner.\\nG.   C. Mathur and C. P. Lal, for the respondent No. 1.\\n1960.   September  14.   The  Judgment  of  the  Court   was\\ndelivered by\\nRAGHUBAR  DAYAL  J.-Narain Das filed a civil  writ  petition\\nunder  Art.  226 of the Constitution in the  High  Court  of\\nJudicature   at   Allahabad.   He  subsequently   moved   an\\napplication  under s. 476 of the Code of Criminal  Procedure\\n(hereinafter  called the Code) for making a complaint  under\\ns. 193, Indian Penal Code, against Phanish Tripathi alleging\\nthat a certain statement in an affidavit filed by the latter\\nwas  false.  The learned Judge who heard  this  application,\\nholding that the appellant had not succeeded in showing that\\nany  portion of the affidavit of Tripathi filed on  May  14,\\n1959,  was  false, dismissed the same.  It is  against  this', metadata={'source': 'doc.pdf', 'page': 0}),\n",
       " Document(page_content=\"http://JUDIS.NIC.IN SUPREME COURT OF INDIA Page 2 of 3 \\norder of the learned Judge of the High Court that Narain Das\\nhas  filed  this memorandum of appeal under s. 476B  of  the\\nCode.   The Registry has submitted the memorandum of  appeal\\nwith  a  report  for determining the  question  whether  the\\nappeal is competent in this Court.\\nSection 476 of the Code is to be found in Ch.  XXXV which is\\nheaded  'Proceedings in case of certain  Offences  Affecting\\nthe  Administration of Justice'.  Section 476  empowers  any\\nCivil, Revenue or Criminal Court, when it is of the  opinion\\nthat  it  is expedient in the interests of justice  that  an\\ninquiry  should be made into any offence referred to  in  s.\\n195(1) (b) or (c) which appears to have been committed in or\\nin relation to a proceeding before it, to file a  complaint,\\nafter  such  inquiry  as  it  thinks  necessary,  before   a\\nMagistrate  of   Class  having jurisdiction.   It  is  clear\\ntherefore that where an offence referred to in s. 195(1) (b)\\nor  (c) is committed in or in relation to a proceeding in  a\\nCivil Court, an inquiry under s. 476 and. the action taken\\n678\\non that inquiry by the Civil Court, are in relation to  that\\nproceeding itself.\\nAny person aggrieved by an order of a Court under s. 476. of\\n'the  Code  may appeal in view of s. 476B to  the  Court  to\\nwhich the former Court is subordinate within the, meaning of\\ns.  195(3),  which  provides that for the  purposes  of  the\\nsection  a  Court shall be deemed to be subordinate  to  the\\nCourt  to which appeals ordinarily lie from  the  appealable\\ndecrees  or sentences of such former Court, or, in the  case\\nof  a  Civil Court from whose decrees no  appeal  ordinarily\\nlies,  to  the,, principal Court  having  ordinary  original\\ncivil   jurisdiction  within  the  local  limits  of   whose\\njurisdiction such Civil Court is situate.  The decrees of  a\\nsingle Judge of the High Court exercising civil jurisdiction\\nare ordinarily appealable to the High Court under el. 10  of\\nthe Letters Patent of the Allahabad High Court read with el.\\n13 of the United Provinces High Courts (Amalgamation) Order,\\n1948.  It is true that the decision of a single Judge of the\\nHigh  Court is as much a decision of the High Court  as  the\\ndecision of the appellate Bench hearing appeals against  his\\ndecrees.  But the Court constituted, by the single Judge  is\\na Court subordinate to the appellate Bench of the High Court\\nin view of the artificial judicial subordination created  by\\nthe  provisions of s. 195(3) to the effect' ' a Court  shall\\nbe  deemed to be subordinate to the Court to  which  appeals\\nordinarily  lie  from the appeal. able decrees...'.  In  the\\ncase of a Civil Court which passes appealable decrees,  that\\nCourt  is  deemed to be subordinate to the  Court  to  which\\nappeals ordinarily lie from its decrees.  In' the case of  a\\nCivil  Court from whose decrees no appeal  ordinarily  lies,\\nthat  Court  is deemed subordinate to  the  principal  Court\\nhaving ordinary original civil jurisdiction within the local\\nlimits  of whose jurisdiction the former Court  is  situate,\\neven though normally such a Court will not be subordinate to\\nthe   principal   Court  having  ordinary   original   civil\\njurisdiction within whose local limits it is situate.\\nIt was urged by the learned Advocate for Narain Das that the\\norder of the learned single Judge under\\n                            679\\ns.476  did  not amount to a decree and  that  therefore  the\\nprovisions  of  s. 195(3) were not applicable.   It  is  not\\nnecessary  for  us  to express an opinion  on  the  question\\nwhether  the order of the learned single Judge under s.  476\\nis appealable under cl. 10 of the Letters Patent or not.   A\\nright  of  appeal  against  that  order  is  given  by-  the\\nprovisions  of  s.  476  B. The  forum  of  appeal  is  also\", metadata={'source': 'doc.pdf', 'page': 1}),\n",
       " Document(page_content=\"http://JUDIS.NIC.IN SUPREME COURT OF INDIA Page 3 of 3 \\ndetermined by the provisions of s. 476B read with s. 195(3),\\nand the only relevant consideration to determine the  proper\\nforum  for  an appeal against such an order  of  the  single\\nJudge  is as to which Court the appeals  against  appealable\\ndecrees  of the single Judge ordinarily lie.   Such  appeals\\nlie to the High Court under cl. 10 of the Letters Patent  of\\nthe Allahabad High Court, and therefore this appeal lies to'\\nthe High Court.\\nLearned counsel for the appellant relied on the decision  of\\nthis  Court in M. S. Sheriff v. The State of Madras  (1)  in\\nsupport  of his contention that an appeal under s. 476B  lay\\nto this Court from the decision of a single Judge of a  High\\nCourt refusing to file a complaint under s. 476 of the Code.\\nThat  case is distinguishable as the question considered  in\\nthat  case was whether an appeal lay to this Court under  s.\\n476B of the Code from an order of a Division Bench of a High\\nCourt.  It did not deal with the question whether an  appeal\\nlay to this Court under s. 476B of the Code from an order of\\na  single  Judge of the High Court.  No appeal lies  to  the\\nHigh  Court against the decision of a Division Bench of  the\\nHigh  Court  and therefore an appeal under s. 476B  from  an\\norder  of the Division Bench of the High Court must  lie  to\\nthis Court.\\nThe fact that an appeal lies to this Court from the order of\\na  single  Judge  of the High Court  where  the  High  Court\\ncertifies, under Art. 132 of the Constitution, that the case\\ninvolves   a   substantial  question  of  law  as   to   the\\ninterpretation  of the Constitution, is of no assistance  to\\nthe appellant's contention 'that this appeal is competent in\\nthis  Court.   It cannot be said that an  appeal  ordinarily\\nlies to this Court from the\\n(1)  [1954] S.C.R. 1144.\\n87\\n680\\njudgment  of a single Judge of a High Court because such  an\\nappeal lies with a certificate granted under Art. 132.\\nWe  therefore hold that the present appeal does not  lie  to\\nthis Court and that it lies to the High Court of  Judicature\\nat  Allahabad.  We therefore direct that the  memorandum  of\\nappeal be returned for presentation. to the proper Court.\\nAppeal incompetent.\", metadata={'source': 'doc.pdf', 'page': 2})]"
      ]
     },
     "execution_count": 12,
     "metadata": {},
     "output_type": "execute_result"
    }
   ],
   "source": [
    "from langchain_community.document_loaders import PyPDFLoader\n",
    "\n",
    "loader = PyPDFLoader(\"doc.pdf\")\n",
    "pages = loader.load_and_split()\n",
    "pages"
   ]
  },
  {
   "cell_type": "code",
   "execution_count": 13,
   "metadata": {},
   "outputs": [],
   "source": [
    "from langchain_community.vectorstores import DocArrayInMemorySearch\n",
    "\n",
    "vectorstore = DocArrayInMemorySearch.from_documents(pages, embedding=embeddings)"
   ]
  },
  {
   "cell_type": "code",
   "execution_count": 14,
   "metadata": {},
   "outputs": [
    {
     "data": {
      "text/plain": [
       "[Document(page_content=\"http://JUDIS.NIC.IN SUPREME COURT OF INDIA Page 2 of 3 \\norder of the learned Judge of the High Court that Narain Das\\nhas  filed  this memorandum of appeal under s. 476B  of  the\\nCode.   The Registry has submitted the memorandum of  appeal\\nwith  a  report  for determining the  question  whether  the\\nappeal is competent in this Court.\\nSection 476 of the Code is to be found in Ch.  XXXV which is\\nheaded  'Proceedings in case of certain  Offences  Affecting\\nthe  Administration of Justice'.  Section 476  empowers  any\\nCivil, Revenue or Criminal Court, when it is of the  opinion\\nthat  it  is expedient in the interests of justice  that  an\\ninquiry  should be made into any offence referred to  in  s.\\n195(1) (b) or (c) which appears to have been committed in or\\nin relation to a proceeding before it, to file a  complaint,\\nafter  such  inquiry  as  it  thinks  necessary,  before   a\\nMagistrate  of   Class  having jurisdiction.   It  is  clear\\ntherefore that where an offence referred to in s. 195(1) (b)\\nor  (c) is committed in or in relation to a proceeding in  a\\nCivil Court, an inquiry under s. 476 and. the action taken\\n678\\non that inquiry by the Civil Court, are in relation to  that\\nproceeding itself.\\nAny person aggrieved by an order of a Court under s. 476. of\\n'the  Code  may appeal in view of s. 476B to  the  Court  to\\nwhich the former Court is subordinate within the, meaning of\\ns.  195(3),  which  provides that for the  purposes  of  the\\nsection  a  Court shall be deemed to be subordinate  to  the\\nCourt  to which appeals ordinarily lie from  the  appealable\\ndecrees  or sentences of such former Court, or, in the  case\\nof  a  Civil Court from whose decrees no  appeal  ordinarily\\nlies,  to  the,, principal Court  having  ordinary  original\\ncivil   jurisdiction  within  the  local  limits  of   whose\\njurisdiction such Civil Court is situate.  The decrees of  a\\nsingle Judge of the High Court exercising civil jurisdiction\\nare ordinarily appealable to the High Court under el. 10  of\\nthe Letters Patent of the Allahabad High Court read with el.\\n13 of the United Provinces High Courts (Amalgamation) Order,\\n1948.  It is true that the decision of a single Judge of the\\nHigh  Court is as much a decision of the High Court  as  the\\ndecision of the appellate Bench hearing appeals against  his\\ndecrees.  But the Court constituted, by the single Judge  is\\na Court subordinate to the appellate Bench of the High Court\\nin view of the artificial judicial subordination created  by\\nthe  provisions of s. 195(3) to the effect' ' a Court  shall\\nbe  deemed to be subordinate to the Court to  which  appeals\\nordinarily  lie  from the appeal. able decrees...'.  In  the\\ncase of a Civil Court which passes appealable decrees,  that\\nCourt  is  deemed to be subordinate to the  Court  to  which\\nappeals ordinarily lie from its decrees.  In' the case of  a\\nCivil  Court from whose decrees no appeal  ordinarily  lies,\\nthat  Court  is deemed subordinate to  the  principal  Court\\nhaving ordinary original civil jurisdiction within the local\\nlimits  of whose jurisdiction the former Court  is  situate,\\neven though normally such a Court will not be subordinate to\\nthe   principal   Court  having  ordinary   original   civil\\njurisdiction within whose local limits it is situate.\\nIt was urged by the learned Advocate for Narain Das that the\\norder of the learned single Judge under\\n                            679\\ns.476  did  not amount to a decree and  that  therefore  the\\nprovisions  of  s. 195(3) were not applicable.   It  is  not\\nnecessary  for  us  to express an opinion  on  the  question\\nwhether  the order of the learned single Judge under s.  476\\nis appealable under cl. 10 of the Letters Patent or not.   A\\nright  of  appeal  against  that  order  is  given  by-  the\\nprovisions  of  s.  476  B. The  forum  of  appeal  is  also\", metadata={'source': 'doc.pdf', 'page': 1}),\n",
       " Document(page_content=\"http://JUDIS.NIC.IN SUPREME COURT OF INDIA Page 3 of 3 \\ndetermined by the provisions of s. 476B read with s. 195(3),\\nand the only relevant consideration to determine the  proper\\nforum  for  an appeal against such an order  of  the  single\\nJudge  is as to which Court the appeals  against  appealable\\ndecrees  of the single Judge ordinarily lie.   Such  appeals\\nlie to the High Court under cl. 10 of the Letters Patent  of\\nthe Allahabad High Court, and therefore this appeal lies to'\\nthe High Court.\\nLearned counsel for the appellant relied on the decision  of\\nthis  Court in M. S. Sheriff v. The State of Madras  (1)  in\\nsupport  of his contention that an appeal under s. 476B  lay\\nto this Court from the decision of a single Judge of a  High\\nCourt refusing to file a complaint under s. 476 of the Code.\\nThat  case is distinguishable as the question considered  in\\nthat  case was whether an appeal lay to this Court under  s.\\n476B of the Code from an order of a Division Bench of a High\\nCourt.  It did not deal with the question whether an  appeal\\nlay to this Court under s. 476B of the Code from an order of\\na  single  Judge of the High Court.  No appeal lies  to  the\\nHigh  Court against the decision of a Division Bench of  the\\nHigh  Court  and therefore an appeal under s. 476B  from  an\\norder  of the Division Bench of the High Court must  lie  to\\nthis Court.\\nThe fact that an appeal lies to this Court from the order of\\na  single  Judge  of the High Court  where  the  High  Court\\ncertifies, under Art. 132 of the Constitution, that the case\\ninvolves   a   substantial  question  of  law  as   to   the\\ninterpretation  of the Constitution, is of no assistance  to\\nthe appellant's contention 'that this appeal is competent in\\nthis  Court.   It cannot be said that an  appeal  ordinarily\\nlies to this Court from the\\n(1)  [1954] S.C.R. 1144.\\n87\\n680\\njudgment  of a single Judge of a High Court because such  an\\nappeal lies with a certificate granted under Art. 132.\\nWe  therefore hold that the present appeal does not  lie  to\\nthis Court and that it lies to the High Court of  Judicature\\nat  Allahabad.  We therefore direct that the  memorandum  of\\nappeal be returned for presentation. to the proper Court.\\nAppeal incompetent.\", metadata={'source': 'doc.pdf', 'page': 2}),\n",
       " Document(page_content='http://JUDIS.NIC.IN SUPREME COURT OF INDIA Page 1 of 3 \\nPETITIONER:\\nNARAIN DAS\\n        Vs.\\nRESPONDENT:\\nTHE STATE OF UTTAR PRADESH\\nDATE OF JUDGMENT:\\n14/09/1960\\nBENCH:\\nACT:\\nAppeal-Forum--Single  Judge of High Court  exercising  civil\\njurisdiction  refusing to file complaint-Appeal, if lies  to\\nSupreme Court-Code of Criminal Procedure, 1898 (V of  1898),\\nss.  195 and 476-B.\\nHEADNOTE:\\nDuring  the  pendency  of  a  civil  writ  petition  in  the\\nAllahabad  High Court, one N moved an application  under  s.\\n476,  Code  of criminal Procedure, for  making  a  complaint\\nunder  s. 93, Indian Penal Code, against T. A  single  judge\\nwho  was  seized  of  the  case  rejected  the  application.\\nThereupon  N  presented  an  appeal  against  the  order  of\\nrejection of his application before the Supreme Court  under\\nS. 476-B, Code of Criminal Procedure.\\nHeld,  that the appeal did not lie to the Supreme Court  but\\nthat  it lay to the Appellate Bench of the High Court.   The\\ndecrees of a single judge of the High Court exercising civil\\njurisdiction  were ordinarily appealable to the  High  Court\\nunder  cl.  1o of the Letters Patent of the  Allahabad  High\\nCourt   read  with  cl.  13  of  the  U.  P.   High   Courts\\n(Amalgamation)   Order,   1948,  and  as  such   the   Court\\nconstituted  by the single judge was a court subordinate  to\\nthe Appellate Bench of the High Court within the meaning  of\\ns. 195(3) of the Code.\\nM.   S. Sheriff v. The State of Madras, [1954] S.C.R.  1144,\\ndistinguished.\\n                            677\\nJUDGMENT:\\nCRIMINAL   APPELLATE   JURISDICTION:  In   the   matter   of\\nmaintainability of appeal in the Supreme Court of India.\\nMohan Lal Agarwala, for the petitioner.\\nG.   C. Mathur and C. P. Lal, for the respondent No. 1.\\n1960.   September  14.   The  Judgment  of  the  Court   was\\ndelivered by\\nRAGHUBAR  DAYAL  J.-Narain Das filed a civil  writ  petition\\nunder  Art.  226 of the Constitution in the  High  Court  of\\nJudicature   at   Allahabad.   He  subsequently   moved   an\\napplication  under s. 476 of the Code of Criminal  Procedure\\n(hereinafter  called the Code) for making a complaint  under\\ns. 193, Indian Penal Code, against Phanish Tripathi alleging\\nthat a certain statement in an affidavit filed by the latter\\nwas  false.  The learned Judge who heard  this  application,\\nholding that the appellant had not succeeded in showing that\\nany  portion of the affidavit of Tripathi filed on  May  14,\\n1959,  was  false, dismissed the same.  It is  against  this', metadata={'source': 'doc.pdf', 'page': 0})]"
      ]
     },
     "execution_count": 14,
     "metadata": {},
     "output_type": "execute_result"
    }
   ],
   "source": [
    "retriever = vectorstore.as_retriever()\n",
    "retriever.invoke(\"machine learning\")"
   ]
  },
  {
   "cell_type": "code",
   "execution_count": 15,
   "metadata": {},
   "outputs": [],
   "source": [
    "from operator import itemgetter\n",
    "\n",
    "chain = (\n",
    "    {\n",
    "        \"context\": itemgetter(\"question\") | retriever,\n",
    "        \"question\": itemgetter(\"question\"),\n",
    "    }\n",
    "    | prompt\n",
    "    | model\n",
    "    | parser\n",
    ")"
   ]
  },
  {
   "cell_type": "code",
   "execution_count": 16,
   "metadata": {},
   "outputs": [
    {
     "name": "stdout",
     "output_type": "stream",
     "text": [
      "Question: why was the appeal rejected\n",
      "Answer: Based on the context, the appeal was rejected because it was held that an appeal under s. 476B does not lie to this Court (Supreme Court of India) from the decision of a single Judge of a High Court refusing to file a complaint under s. 476 of the Code.\n",
      "\n",
      "The Court distinguished the case M. S. Sheriff v. The State of Madras, which dealt with an appeal lying to this Court under s. 476B of the Code from an order of a Division Bench of a High Court. Since no appeal lies to the High Court against the decision of a single Judge, and therefore an appeal under s. 476B from an order of the single Judge must lie to the High Court, the present appeal was rejected as it does not lie to this Court.\n",
      "\n",
      "In other words, the Supreme Court held that the forum of appeal is the High Court of Judicature at Allahabad, and not this Court.\n",
      "\n"
     ]
    }
   ],
   "source": [
    "questions = [\n",
    "    \"why was the appeal rejected\",\n",
    "    # \"How many hours of live sessions?\",\n",
    "    # \"How many coding assignments are there in the program?\",\n",
    "    # \"Is there a program certificate upon completion?\",\n",
    "    # \"What programming language will be used in the program?\",\n",
    "    # \"How much does the program cost?\",\n",
    "]\n",
    "\n",
    "for question in questions:\n",
    "    print(f\"Question: {question}\")\n",
    "    print(f\"Answer: {chain.invoke({'question': question})}\")\n",
    "    print()"
   ]
  }
 ],
 "metadata": {
  "kernelspec": {
   "display_name": "Python 3",
   "language": "python",
   "name": "python3"
  },
  "language_info": {
   "codemirror_mode": {
    "name": "ipython",
    "version": 3
   },
   "file_extension": ".py",
   "mimetype": "text/x-python",
   "name": "python",
   "nbconvert_exporter": "python",
   "pygments_lexer": "ipython3",
   "version": "3.12.3"
  }
 },
 "nbformat": 4,
 "nbformat_minor": 2
}
